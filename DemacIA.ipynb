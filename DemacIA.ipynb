{
  "nbformat": 4,
  "nbformat_minor": 0,
  "metadata": {
    "colab": {
      "provenance": [],
      "authorship_tag": "ABX9TyM/XgLuYGU9R4ZoHN61e+qT",
      "include_colab_link": true
    },
    "kernelspec": {
      "name": "python3",
      "display_name": "Python 3"
    },
    "language_info": {
      "name": "python"
    }
  },
  "cells": [
    {
      "cell_type": "markdown",
      "metadata": {
        "id": "view-in-github",
        "colab_type": "text"
      },
      "source": [
        "<a href=\"https://colab.research.google.com/github/juansf04/DemacIA_DesafioAlura/blob/main/DemacIA.ipynb\" target=\"_parent\"><img src=\"https://colab.research.google.com/assets/colab-badge.svg\" alt=\"Open In Colab\"/></a>"
      ]
    },
    {
      "cell_type": "code",
      "execution_count": 1,
      "metadata": {
        "id": "H7bu_qHHRohA"
      },
      "outputs": [],
      "source": [
        "#Instalação do Google Generative AI;\n",
        "!pip install -q -U google-generativeai"
      ]
    },
    {
      "cell_type": "code",
      "source": [
        "#Importação das bibliotecas;\n",
        "import google.generativeai as genai\n",
        "from google.colab import files\n",
        "from google.colab import userdata"
      ],
      "metadata": {
        "id": "J1ipylSqR4Cu"
      },
      "execution_count": 2,
      "outputs": []
    },
    {
      "cell_type": "code",
      "source": [
        "#Configuração da API KEY;\n",
        "API_KEY = userdata.get(\"SECRET_KEY\")\n",
        "genai.configure(api_key=API_KEY)"
      ],
      "metadata": {
        "id": "_6CDg8dhR6iH"
      },
      "execution_count": 3,
      "outputs": []
    },
    {
      "cell_type": "code",
      "source": [
        "#Configuração do modelo;\n",
        "config_generation = {\n",
        "    \"candidate_count\": 1,\n",
        "    \"temperature\": 0,\n",
        "}\n",
        ""
      ],
      "metadata": {
        "id": "616x8JIWSARF"
      },
      "execution_count": 4,
      "outputs": []
    },
    {
      "cell_type": "code",
      "source": [
        "#Configuração dos filtros;\n",
        "config_safety = {\n",
        "    \"HARASSMENT\": \"BLOCK_MOST\",\n",
        "    \"HATE\": \"BLOCK_MOST\",\n",
        "    \"SEXUAL\": \"BLOCK_MOST\",\n",
        "    \"DANGEROUS\": \"BLOCK_MOST\"\n",
        "}"
      ],
      "metadata": {
        "id": "vZRIVbT6SCQr"
      },
      "execution_count": 5,
      "outputs": []
    },
    {
      "cell_type": "code",
      "source": [
        "#Definindo modelo que será utilizado;\n",
        "model = genai.GenerativeModel(\"gemini-1.0-pro\")"
      ],
      "metadata": {
        "id": "2Ia8HyUYSEoq"
      },
      "execution_count": 6,
      "outputs": []
    },
    {
      "cell_type": "code",
      "source": [
        "#Print final de Nome de Campeão e Estatísticas;\n",
        "print(\"Qual o nome do seu campeão?\")\n",
        "nome_do_campeao = input()\n",
        "\n",
        "if nome_do_campeao:\n",
        "    print(\"Nome do seu campeão é:\", nome_do_campeao)\n",
        "    response = model.generate_content(\"Escreva a árvore primaria e secundaria de runas e os itens do campeão\")\n",
        "    print(response.text)\n",
        "else:\n",
        "    print(\"Nenhum nome de campeão digitado!\")"
      ],
      "metadata": {
        "colab": {
          "base_uri": "https://localhost:8080/",
          "height": 399
        },
        "id": "Ewzdhtf4SGna",
        "outputId": "054ec538-3eca-4015-e2c1-428f202044dc"
      },
      "execution_count": 7,
      "outputs": [
        {
          "output_type": "stream",
          "name": "stdout",
          "text": [
            "Qual o nome do seu campeão?\n",
            "Yasuo\n",
            "Nome do seu campeão é: Yasuo\n",
            "**Árvore Primária: Dominação**\n",
            "\n",
            "* **Electrimancia:** Causa dano adicional em um único alvo com ataques e habilidades.\n",
            "* **Impacto Repentino:** Causa dano adicional após sair da invisibilidade ou do arbusto.\n",
            "* **Olho Zumbi:** Ganha visão temporária de um inimigo ou sentinela após causar dano a ele.\n",
            "* **Caça Suprema:** Causa dano adicional a monstros e campeões com pouca vida.\n",
            "\n",
            "**Árvore Secundária: Feitiçaria**\n",
            "\n",
            "* **Faixa de Fluxo de Mana:** Reduz o custo de mana das habilidades.\n",
            "* **Transcendência:** Ganha redução de tempo de recarga por abate ou assistência.\n",
            "\n",
            "**Itens do Campeão**\n",
            "\n",
            "* **Rastreador Noturno:** Fornece visão aprimorada, redução de tempo de recarga e um escudo contra magia.\n",
            "* **Ampulheta de Zhonya:** Torna o campeão invulnerável por um curto período de tempo.\n",
            "* **Cajado do Vazio:** Aumenta o poder de habilidade e a penetração mágica.\n",
            "* **Capuz da Morte de Rabadon:** Aumenta drasticamente o poder de habilidade.\n",
            "* **Sombras Gêmeas:** Permite que o campeão duplique-se, confundindo os inimigos.\n"
          ]
        }
      ]
    }
  ]
}