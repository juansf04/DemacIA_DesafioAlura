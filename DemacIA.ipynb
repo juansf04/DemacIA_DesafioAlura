{
  "nbformat": 4,
  "nbformat_minor": 0,
  "metadata": {
    "colab": {
      "provenance": [],
      "authorship_tag": "ABX9TyOphIaTeo50+VHOs6auKFD0",
      "include_colab_link": true
    },
    "kernelspec": {
      "name": "python3",
      "display_name": "Python 3"
    },
    "language_info": {
      "name": "python"
    }
  },
  "cells": [
    {
      "cell_type": "markdown",
      "metadata": {
        "id": "view-in-github",
        "colab_type": "text"
      },
      "source": [
        "<a href=\"https://colab.research.google.com/github/juansf04/DemacIA_DesafioAlura/blob/main/DemacIA.ipynb\" target=\"_parent\"><img src=\"https://colab.research.google.com/assets/colab-badge.svg\" alt=\"Open In Colab\"/></a>"
      ]
    },
    {
      "cell_type": "code",
      "execution_count": 1,
      "metadata": {
        "id": "H7bu_qHHRohA"
      },
      "outputs": [],
      "source": [
        "#Instalação do Google Generative AI;\n",
        "!pip install -q -U google-generativeai"
      ]
    },
    {
      "cell_type": "code",
      "source": [
        "#Importação das bibliotecas;\n",
        "import google.generativeai as genai\n",
        "from google.colab import files\n",
        "from google.colab import userdata"
      ],
      "metadata": {
        "id": "J1ipylSqR4Cu"
      },
      "execution_count": 2,
      "outputs": []
    },
    {
      "cell_type": "code",
      "source": [
        "#Configuração da API KEY;\n",
        "API_KEY = userdata.get(\"SECRET_KEY\")\n",
        "genai.configure(api_key=API_KEY)"
      ],
      "metadata": {
        "id": "_6CDg8dhR6iH"
      },
      "execution_count": 3,
      "outputs": []
    },
    {
      "cell_type": "code",
      "source": [
        "#Configuração do modelo;\n",
        "config_generation = {\n",
        "    \"candidate_count\": 1,\n",
        "    \"temperature\": 0,\n",
        "}\n",
        ""
      ],
      "metadata": {
        "id": "616x8JIWSARF"
      },
      "execution_count": 4,
      "outputs": []
    },
    {
      "cell_type": "code",
      "source": [
        "#Configuração dos filtros;\n",
        "config_safety = {\n",
        "    \"HARASSMENT\": \"BLOCK_MOST\",\n",
        "    \"HATE\": \"BLOCK_MOST\",\n",
        "    \"SEXUAL\": \"BLOCK_MOST\",\n",
        "    \"DANGEROUS\": \"BLOCK_MOST\"\n",
        "}"
      ],
      "metadata": {
        "id": "vZRIVbT6SCQr"
      },
      "execution_count": 5,
      "outputs": []
    },
    {
      "cell_type": "code",
      "source": [
        "#Definindo modelo que será utilizado;\n",
        "model = genai.GenerativeModel(\"gemini-1.0-pro\")"
      ],
      "metadata": {
        "id": "2Ia8HyUYSEoq"
      },
      "execution_count": 6,
      "outputs": []
    },
    {
      "cell_type": "code",
      "source": [
        "#Print final de Nome de Campeão e Estatísticas;\n",
        "print(\"Qual o nome do seu campeão?\")\n",
        "nome_do_campeao = input()\n",
        "\n",
        "if nome_do_campeao:\n",
        "    print(\"Nome do seu campeão é:\", nome_do_campeao)\n",
        "    response = model.generate_content(\"Quais são as melhores Runas e Itens do Campeão?\")\n",
        "    print(response.text)\n",
        "else:\n",
        "    print(\"Nenhum nome de campeão digitado!\")"
      ],
      "metadata": {
        "colab": {
          "base_uri": "https://localhost:8080/",
          "height": 694
        },
        "id": "Ewzdhtf4SGna",
        "outputId": "e218f3ce-2431-40c3-d03e-61c366c49ded"
      },
      "execution_count": 21,
      "outputs": [
        {
          "output_type": "stream",
          "name": "stdout",
          "text": [
            "Qual o nome do seu campeão?\n",
            "Zed\n",
            "Nome do seu campeão é: Zed\n",
            "**Runas**\n",
            "\n",
            "**Runa Primária:**\n",
            "\n",
            "* Conquistador: Para campeões lutadores e matadores de tanques que precisam sustentar o dano ao longo do tempo.\n",
            "* Pressão do Arco-escudo: Para atiradores que desejam aumentar o dano na fase de rotas e melhorar a segurança.\n",
            "* Electrocutar: Para campeões explosivos que dependem de rajadas de dano.\n",
            "* Colheita Negra: Para campeões que pretendem acumular almas para ganhar AD e força adaptativa.\n",
            "\n",
            "**Runas Secundárias:**\n",
            "\n",
            "* Triunfo: Para campeões que se beneficiam de um aumento de ouro após abates ou assistências.\n",
            "* Presença Mental: Para campeões que precisam gerenciar bem seu mana.\n",
            "* Lenda: Tenacidade: Para campeões que precisam resistir a imobilizações e enfraquecimentos.\n",
            "* Golpe de Misericórdia: Para campeões que podem executar rapidamente os oponentes após reduzir sua vida.\n",
            "\n",
            "**Itens**\n",
            "\n",
            "**Itens Essenciais:**\n",
            "\n",
            "* Manopla Divina: Para lutadores que escalam com AD e precisam de um aumento de vida e cura.\n",
            "* Força da Trindade: Para campeões do tipo lutador/tanque que precisam de AD, vida e redução de recarga.\n",
            "* Muramana: Para atiradores que desejam converter mana em dano de ataque adicional.\n",
            "\n",
            "**Itens Situacionais:**\n",
            "\n",
            "* Anjo Guardião: Para campeões que precisam de um escudo ressurretivo para se proteger de habilidades assassinas.\n",
            "* Foice da Névoa Negra: Para campeões que precisam vasculhar o mapa e fornecer visão para sua equipe.\n",
            "* Sedenta por Sangue: Para campeões que precisam de mais sustentação na batalha e aumento de dano por omnivampirismo.\n",
            "* Canhão de Fogo Rápido: Para atiradores que desejam aumentar seu alcance de ataque e causar mais dano crítico.\n",
            "\n",
            "**Observações:**\n",
            "\n",
            "* A melhor escolha de runas e itens varia dependendo do campeão, função e combinação específica.\n",
            "* Sempre considere a composição da equipe, o estágio do jogo e as escolhas dos oponentes ao tomar decisões sobre itens e runas.\n",
            "* Não tenha medo de experimentar runas e itens diferentes para encontrar o que funciona melhor para seu estilo de jogo e o campeão escolhido.\n"
          ]
        }
      ]
    }
  ]
}